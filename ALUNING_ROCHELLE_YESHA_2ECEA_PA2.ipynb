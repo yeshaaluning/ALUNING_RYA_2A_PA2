{
 "cells": [
  {
   "cell_type": "markdown",
   "id": "6f178644-069f-4312-8b73-5f5cc1f67c9c",
   "metadata": {},
   "source": [
    "PA1: NUMERICAL PYTHON"
   ]
  },
  {
   "cell_type": "markdown",
   "id": "ef13d316-e3d8-487e-b44f-059b2c25c235",
   "metadata": {},
   "source": [
    "1. NORMALIZATION PROBLEM"
   ]
  },
  {
   "cell_type": "code",
   "execution_count": 1,
   "id": "a939e6a8-8e60-4d50-a0a3-d4acf29f574f",
   "metadata": {},
   "outputs": [],
   "source": [
    "#Declaring nump as 'np'\n",
    "import numpy as np"
   ]
  },
  {
   "cell_type": "code",
   "execution_count": 2,
   "id": "388302ad-5213-4e76-812f-c4216e27b503",
   "metadata": {},
   "outputs": [
    {
     "data": {
      "text/plain": [
       "array([[0.41132949, 0.07948157, 0.35154746, 0.7762611 , 0.69936359],\n",
       "       [0.57979109, 0.59056226, 0.94132466, 0.81542448, 0.33626082],\n",
       "       [0.9730527 , 0.55406788, 0.57401008, 0.42991721, 0.5717707 ],\n",
       "       [0.58972784, 0.95353967, 0.89415591, 0.16898135, 0.99141859],\n",
       "       [0.92639877, 0.66943433, 0.55830726, 0.793771  , 0.91762313]])"
      ]
     },
     "execution_count": 2,
     "metadata": {},
     "output_type": "execute_result"
    }
   ],
   "source": [
    "#Making a random 5x5 ndrray and storing it to variable X.\n",
    "X = np.random.random((5,5))\n",
    "X\n"
   ]
  },
  {
   "cell_type": "code",
   "execution_count": 3,
   "id": "f8263b15-d88e-4433-aa1d-f25e0345a260",
   "metadata": {},
   "outputs": [
    {
     "data": {
      "text/plain": [
       "0.64590091811302"
      ]
     },
     "execution_count": 3,
     "metadata": {},
     "output_type": "execute_result"
    }
   ],
   "source": [
    "#To get the mean\n",
    "m = X.mean()\n",
    "m"
   ]
  },
  {
   "cell_type": "code",
   "execution_count": 5,
   "id": "88a2ce86-b9bf-4210-a87f-4f4970c6fdf5",
   "metadata": {},
   "outputs": [
    {
     "data": {
      "text/plain": [
       "0.25006514379801653"
      ]
     },
     "execution_count": 5,
     "metadata": {},
     "output_type": "execute_result"
    }
   ],
   "source": [
    "#To get the sd\n",
    "sd = X.std()\n",
    "sd"
   ]
  },
  {
   "cell_type": "code",
   "execution_count": 9,
   "id": "a69ee6f7-6ec0-4a19-85b7-557ca668cfc2",
   "metadata": {},
   "outputs": [],
   "source": [
    "#Normalization\n",
    "z = X-m//sd\n",
    "z\n",
    "\n",
    "np.save('X_normalized.npy', z)"
   ]
  },
  {
   "cell_type": "markdown",
   "id": "79da4f2b-6055-476a-ae47-9c909e0f00a6",
   "metadata": {},
   "source": [
    "2. DIVISIBLE BY 3 PROBLEM"
   ]
  },
  {
   "cell_type": "code",
   "execution_count": 8,
   "id": "55a49842-8b8e-4cbe-8e66-9203061909a5",
   "metadata": {},
   "outputs": [
    {
     "name": "stdout",
     "output_type": "stream",
     "text": [
      "Matrix A (10x10 of squares):\n",
      " [[    1     4     9    16    25    36    49    64    81   100]\n",
      " [  121   144   169   196   225   256   289   324   361   400]\n",
      " [  441   484   529   576   625   676   729   784   841   900]\n",
      " [  961  1024  1089  1156  1225  1296  1369  1444  1521  1600]\n",
      " [ 1681  1764  1849  1936  2025  2116  2209  2304  2401  2500]\n",
      " [ 2601  2704  2809  2916  3025  3136  3249  3364  3481  3600]\n",
      " [ 3721  3844  3969  4096  4225  4356  4489  4624  4761  4900]\n",
      " [ 5041  5184  5329  5476  5625  5776  5929  6084  6241  6400]\n",
      " [ 6561  6724  6889  7056  7225  7396  7569  7744  7921  8100]\n",
      " [ 8281  8464  8649  8836  9025  9216  9409  9604  9801 10000]]\n",
      "\n",
      "Elements divisible by 3:\n",
      " [   9   36   81  144  225  324  441  576  729  900 1089 1296 1521 1764\n",
      " 2025 2304 2601 2916 3249 3600 3969 4356 4761 5184 5625 6084 6561 7056\n",
      " 7569 8100 8649 9216 9801]\n"
     ]
    }
   ],
   "source": [
    "#Declaring nump as 'np'\n",
    "import numpy as np\n",
    "\n",
    "#Creating an array of the first 100 positive integers\n",
    "numbers = np.arange(1, 101)\n",
    "\n",
    "#Square the numbers\n",
    "squares = numbers ** 2\n",
    "\n",
    "#Reshape into a 10 x 10 ndarray\n",
    "A = squares.reshape(10, 10)\n",
    "\n",
    "#Select all elements that are divisible by 3\n",
    "div_by_3 = A[A % 3 == 0]\n",
    "\n",
    "#Save the result into a .npy file\n",
    "np.save(\"div_by_3.npy\", div_by_3)\n",
    "\n",
    "#Print\n",
    "print(\"Matrix A (10x10 of squares):\\n\", A)\n",
    "print(\"\\nElements divisible by 3:\\n\", div_by_3)\n"
   ]
  },
  {
   "cell_type": "code",
   "execution_count": null,
   "id": "ae42bddc-48b2-4d64-b3fc-e93bb4461d7a",
   "metadata": {},
   "outputs": [],
   "source": []
  }
 ],
 "metadata": {
  "kernelspec": {
   "display_name": "anaconda-panel-2023.05-py310",
   "language": "python",
   "name": "conda-env-anaconda-panel-2023.05-py310-py"
  },
  "language_info": {
   "codemirror_mode": {
    "name": "ipython",
    "version": 3
   },
   "file_extension": ".py",
   "mimetype": "text/x-python",
   "name": "python",
   "nbconvert_exporter": "python",
   "pygments_lexer": "ipython3",
   "version": "3.11.5"
  }
 },
 "nbformat": 4,
 "nbformat_minor": 5
}
